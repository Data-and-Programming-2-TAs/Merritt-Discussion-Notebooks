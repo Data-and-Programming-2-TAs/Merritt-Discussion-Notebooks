{
 "cells": [
  {
   "cell_type": "markdown",
   "metadata": {},
   "source": [
    "# Lab 1: Welcome!\n",
    "\n",
    "These labs will contain (1) review, and (2) any questions you ask that I can answer with examples. The idea behind this is that others likely have the same questions you do, and Jupyter notebooks provide a nice way to create minimal reproducible examples of common issues. Your questions don't have to be included if you don't want them to be.\n",
    "\n",
    "## PEP8\n",
    "https://www.python.org/dev/peps/pep-0008/\n",
    "\n",
    "Eventually, these standards will be much like English grammar, where you will see something that looks wrong but not know why (like how there's an order to types of adjectives in English but we don't acknowledge it).\n",
    "\n",
    "For now, adhere to the following:\n",
    "\n",
    "* Four spaces for indentation (tabs are also fine as long as they're four spaces)\n",
    "    * I recommend that you find and replace your tabs with four spaces before you submit\n",
    "* No tabs AND spaces\n",
    "* Max 79 characters / line\n",
    "    * If you go over then use the reference [here](https://www.python.org/dev/peps/pep-0008/#indentation) on lining things up properly\n",
    "    * You can break things up using nested parentheses or /\n",
    "* Functions and class definitions should be preceded and followed by 2 blank lines\n",
    "* Blank lines can be used to indicate logical separations or chunks\n",
    "* Encoding should always be UTF-8 (and always will be if you use Python3)\n",
    "* Put imports on different lines\n",
    "    * Unless it's multiple from the same library like \"from requests import get, post\"\n",
    "* Imports go at the top after docstrings\n",
    "* Single vs. double quotes doesn't matter\n",
    "    * Be consistent\n",
    "* Put spaces before and after operators (<, =, ==, etc.)\n",
    "* Use descriptive variables names\n",
    "    * No x or whatever unless it's in a list comprehension or otehrwise won't be used again\n",
    "* Use snake case (underscores_between_words)\n",
    "    * Except in class names, then use camelCase\n"
   ]
  },
  {
   "cell_type": "code",
   "execution_count": 23,
   "metadata": {},
   "outputs": [
    {
     "name": "stdout",
     "output_type": "stream",
     "text": [
      "The weather in Chicago is broken clouds. It is 56.44 degrees Farenheit, but feels like 49.42 degrees Farenheit.\n"
     ]
    }
   ],
   "source": [
    "\"\"\"\n",
    "A code snippet that gets data from OpenWeatherMap\n",
    "about the current weather at UChicago\n",
    "but does it the WRONG WAY\n",
    "\"\"\"\n",
    "\n",
    "from requests import get\n",
    "import requests, config\n",
    "z = 60637\n",
    "requestResponse=requests.get(f\"http://api.openweathermap.org/data/2.5/weather?zip={z}&appid={config.open_weather_key}&units=imperial\")\n",
    "def prettyPrintWeather(requestResponse):\n",
    "    requestResponse=requestResponse.json()\n",
    "    i,j,k,l= requestResponse['weather'][0]['description'], requestResponse['main']['temp'], requestResponse['main']['feels_like'], requestResponse['name']\n",
    "    print('The weather in ' + str(l) + ' is ' + str(i) + '. It is ' + str(j) +' degrees Farenheit, but feels like '+ str(k) +' degrees Farenheit.')\n",
    "prettyPrintWeather(requestResponse)\n",
    "\n"
   ]
  },
  {
   "cell_type": "code",
   "execution_count": 24,
   "metadata": {},
   "outputs": [
    {
     "name": "stdout",
     "output_type": "stream",
     "text": [
      "The weather in Chicago is broken clouds.It is 56.44 degrees Farenheitbut feels like 49.42 degrees Farenheit.\n"
     ]
    }
   ],
   "source": [
    "\"\"\"\n",
    "A code snippet that gets data from OpenWeatherMap\n",
    "about the current weather at UChicago\n",
    "but does it the RIGHT WAY\n",
    "\"\"\"\n",
    "\n",
    "import requests\n",
    "import config\n",
    "\n",
    "\n",
    "def pretty_print_weather(request_response):\n",
    "    response_json = request_response.json()\n",
    "    weather_description   = response_json['weather'][0]['description']\n",
    "    actual_temperature    = response_json['main']['temp']\n",
    "    perceived_temperature = response_json['main']['feels_like']\n",
    "    city_name             = response_json['name']\n",
    "    print(f'The weather in {city_name} is {weather_description}.'\n",
    "          f'It is {actual_temperature} degrees Farenheit'\n",
    "          f'but feels like {perceived_temperature} degrees Farenheit.')\n",
    "\n",
    "\n",
    "zip_code = 60637\n",
    "params = {'zip': zip_code,\n",
    "          'appid': config.open_weather_key,\n",
    "          'units': 'imperial'}\n",
    "\n",
    "request_response=requests.get('http://api.openweathermap.org/data/2.5/weather', params = params)\n",
    "    \n",
    "pretty_print_weather(request_response)"
   ]
  }
 ],
 "metadata": {
  "kernelspec": {
   "display_name": "Python 3",
   "language": "python",
   "name": "python3"
  },
  "language_info": {
   "codemirror_mode": {
    "name": "ipython",
    "version": 3
   },
   "file_extension": ".py",
   "mimetype": "text/x-python",
   "name": "python",
   "nbconvert_exporter": "python",
   "pygments_lexer": "ipython3",
   "version": "3.8.5"
  }
 },
 "nbformat": 4,
 "nbformat_minor": 4
}
