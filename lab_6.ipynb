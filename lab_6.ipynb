{
 "cells": [
  {
   "cell_type": "markdown",
   "metadata": {},
   "source": [
    "# Geopandas"
   ]
  },
  {
   "cell_type": "markdown",
   "metadata": {},
   "source": [
    "This week we'll be looking at the San Andreas Fault that runs along the coast of California using Geopandas. I'm from an area very close to the faultline, and I'd like to figure out how many people live within a mile of the faultline. This type of calculation is very policy-relevant for those working in FEMA, for example. To accomplish this, we'll use data from the census in CA and the USGS. \n",
    "\n",
    "This was almost entirely lifted from [here](https://cbrownley.wordpress.com/tag/geopandas/), since Geopandas isn't really my specialty within Python. "
   ]
  },
  {
   "cell_type": "code",
   "execution_count": 20,
   "metadata": {},
   "outputs": [],
   "source": [
    "from geopandas import read_file\n",
    "import pandas as pd\n",
    "import matplotlib.pyplot as plt\n",
    "from pathlib import Path\n",
    "\n",
    "fault_shape_path = Path.cwd() / 'data' / 'Qfaults_GIS' / 'SHP' / 'Qfaults_US_Database.shp'\n",
    "tract_shp_path   = Path.cwd() / 'data' / 'ca_tracts' / 'cb_2016_06_tract_500k.shp'\n",
    "tract_json_path  = Path.cwd() / 'data' / 'ca_tracts' / 'tract_pop.json'"
   ]
  },
  {
   "cell_type": "markdown",
   "metadata": {},
   "source": [
    "## Reading in .shp files"
   ]
  },
  {
   "cell_type": "code",
   "execution_count": 5,
   "metadata": {},
   "outputs": [
    {
     "data": {
      "text/plain": [
       "(112809, 23)"
      ]
     },
     "execution_count": 5,
     "metadata": {},
     "output_type": "execute_result"
    }
   ],
   "source": [
    "fault_data = read_file(fault_shape_path.as_posix())\n",
    "fault_data.shape"
   ]
  },
  {
   "cell_type": "code",
   "execution_count": 6,
   "metadata": {},
   "outputs": [
    {
     "data": {
      "text/plain": [
       "geopandas.geodataframe.GeoDataFrame"
      ]
     },
     "execution_count": 6,
     "metadata": {},
     "output_type": "execute_result"
    }
   ],
   "source": [
    "type(fault_data)"
   ]
  },
  {
   "cell_type": "code",
   "execution_count": 7,
   "metadata": {},
   "outputs": [
    {
     "data": {
      "text/html": [
       "<div>\n",
       "<style scoped>\n",
       "    .dataframe tbody tr th:only-of-type {\n",
       "        vertical-align: middle;\n",
       "    }\n",
       "\n",
       "    .dataframe tbody tr th {\n",
       "        vertical-align: top;\n",
       "    }\n",
       "\n",
       "    .dataframe thead th {\n",
       "        text-align: right;\n",
       "    }\n",
       "</style>\n",
       "<table border=\"1\" class=\"dataframe\">\n",
       "  <thead>\n",
       "    <tr style=\"text-align: right;\">\n",
       "      <th></th>\n",
       "      <th>fault_name</th>\n",
       "      <th>age</th>\n",
       "      <th>class</th>\n",
       "      <th>certainty</th>\n",
       "      <th>fault_leng</th>\n",
       "      <th>earthquake</th>\n",
       "      <th>geometry</th>\n",
       "    </tr>\n",
       "  </thead>\n",
       "  <tbody>\n",
       "    <tr>\n",
       "      <th>8</th>\n",
       "      <td>San Andreas fault zone</td>\n",
       "      <td>historic</td>\n",
       "      <td>A</td>\n",
       "      <td>Good</td>\n",
       "      <td>1082</td>\n",
       "      <td>San Francisco earthquake</td>\n",
       "      <td>LINESTRING (-124.07161 40.06145, -124.08192 40...</td>\n",
       "    </tr>\n",
       "    <tr>\n",
       "      <th>9</th>\n",
       "      <td>San Andreas fault zone</td>\n",
       "      <td>historic</td>\n",
       "      <td>A</td>\n",
       "      <td>Good</td>\n",
       "      <td>1082</td>\n",
       "      <td>San Francisco earthquake</td>\n",
       "      <td>LINESTRING (-124.07800 40.04641, -124.07949 40...</td>\n",
       "    </tr>\n",
       "    <tr>\n",
       "      <th>10</th>\n",
       "      <td>San Andreas fault zone</td>\n",
       "      <td>historic</td>\n",
       "      <td>A</td>\n",
       "      <td>Good</td>\n",
       "      <td>1082</td>\n",
       "      <td>San Francisco earthquake</td>\n",
       "      <td>LINESTRING (-124.07643 40.04447, -124.07463 40...</td>\n",
       "    </tr>\n",
       "    <tr>\n",
       "      <th>11</th>\n",
       "      <td>San Andreas fault zone</td>\n",
       "      <td>historic</td>\n",
       "      <td>A</td>\n",
       "      <td>Good</td>\n",
       "      <td>1082</td>\n",
       "      <td>San Francisco earthquake</td>\n",
       "      <td>LINESTRING (-124.07384 40.04120, -124.07281 40...</td>\n",
       "    </tr>\n",
       "    <tr>\n",
       "      <th>12</th>\n",
       "      <td>San Andreas fault zone</td>\n",
       "      <td>historic</td>\n",
       "      <td>A</td>\n",
       "      <td>Good</td>\n",
       "      <td>1082</td>\n",
       "      <td>San Francisco earthquake</td>\n",
       "      <td>LINESTRING (-124.07747 40.04578, -124.07787 40...</td>\n",
       "    </tr>\n",
       "  </tbody>\n",
       "</table>\n",
       "</div>"
      ],
      "text/plain": [
       "                fault_name       age class certainty  fault_leng  \\\n",
       "8   San Andreas fault zone  historic     A      Good        1082   \n",
       "9   San Andreas fault zone  historic     A      Good        1082   \n",
       "10  San Andreas fault zone  historic     A      Good        1082   \n",
       "11  San Andreas fault zone  historic     A      Good        1082   \n",
       "12  San Andreas fault zone  historic     A      Good        1082   \n",
       "\n",
       "                  earthquake  \\\n",
       "8   San Francisco earthquake   \n",
       "9   San Francisco earthquake   \n",
       "10  San Francisco earthquake   \n",
       "11  San Francisco earthquake   \n",
       "12  San Francisco earthquake   \n",
       "\n",
       "                                             geometry  \n",
       "8   LINESTRING (-124.07161 40.06145, -124.08192 40...  \n",
       "9   LINESTRING (-124.07800 40.04641, -124.07949 40...  \n",
       "10  LINESTRING (-124.07643 40.04447, -124.07463 40...  \n",
       "11  LINESTRING (-124.07384 40.04120, -124.07281 40...  \n",
       "12  LINESTRING (-124.07747 40.04578, -124.07787 40...  "
      ]
     },
     "execution_count": 7,
     "metadata": {},
     "output_type": "execute_result"
    }
   ],
   "source": [
    "sa = fault_data[fault_data['fault_name'].str.contains('San Andreas')]\n",
    "sa = sa[['fault_name', 'age', 'class', 'certainty', 'fault_leng', 'earthquake', 'geometry']]\n",
    "sa.head()"
   ]
  },
  {
   "cell_type": "code",
   "execution_count": 8,
   "metadata": {},
   "outputs": [
    {
     "data": {
      "image/png": "[encoded data removed]",
      "text/plain": [
       "<Figure size 720x720 with 1 Axes>"
      ]
     },
     "metadata": {
      "needs_background": "light"
     },
     "output_type": "display_data"
    }
   ],
   "source": [
    "sa = sa.to_crs('epsg:3310')\n",
    "\n",
    "\n",
    "sa.plot(figsize=(10,10), edgecolor='black', facecolor='white');"
   ]
  },
  {
   "cell_type": "code",
   "execution_count": 9,
   "metadata": {},
   "outputs": [],
   "source": [
    "def create_buffer(geo, n_meters):\n",
    "    segments_w_buffers = geo.buffer(n_meters)\n",
    "    multi_polygon = segments_w_buffers.unary_union\n",
    "    return multi_polygon"
   ]
  },
  {
   "cell_type": "code",
   "execution_count": 14,
   "metadata": {},
   "outputs": [
    {
     "data": {
      "image/png": "[encoded data removed]",
      "text/plain": [
       "<Figure size 432x288 with 1 Axes>"
      ]
     },
     "metadata": {
      "needs_background": "light"
     },
     "output_type": "display_data"
    }
   ],
   "source": [
    "one_mile = create_buffer(sa, 1609.34)\n",
    "fig, ax = plt.subplots()\n",
    "for geom in one_mile.geoms:\n",
    "    xs, ys = geom.exterior.xy\n",
    "    ax.fill(xs, ys, alpha=0.5)\n",
    "plt.show()"
   ]
  },
  {
   "cell_type": "markdown",
   "metadata": {},
   "source": [
    "## California Census Tracts .shp file"
   ]
  },
  {
   "cell_type": "code",
   "execution_count": 19,
   "metadata": {},
   "outputs": [],
   "source": [
    "ca_tracts = read_file(tract_shp_path.as_posix())\n",
    "ca_tracts = ca_tracts.rename(columns = {'STATEFP': 'State ID', 'COUNTYFP': 'County ID',\n",
    "                                        'TRACTCE': 'Tract ID', 'AFFGEOID': 'Aff Geo ID',\n",
    "                                        'GEOID': 'Geo ID', 'NAME': 'Tract Name',\n",
    "                                        'LSAD': 'lsad', 'ALAND': 'Land Area',\n",
    "                                        'AWATER': 'Water Area'})\n",
    "ca_tracts['County ID'] = ca_tracts['County ID'].astype(int)\n",
    "ca_tracts['Tract ID']  = ca_tracts['Tract ID'].astype(int)\n",
    "ca_tracts = ca_tracts.to_crs('epsg:3310')"
   ]
  },
  {
   "cell_type": "markdown",
   "metadata": {},
   "source": [
    "## California Census Tract Population data"
   ]
  },
  {
   "cell_type": "code",
   "execution_count": 45,
   "metadata": {},
   "outputs": [],
   "source": [
    "ca_tract_pop = pd.read_json(tract_json_path.as_posix())\n",
    "ca_tract_pop = ca_tract_pop.iloc[1:,[0,2,3]]\n",
    "ca_tract_pop.columns = ['Population 2016', 'County ID', 'Tract ID']\n",
    "ca_tract_pop['Population 2016'] = ca_tract_pop['Population 2016'].astype(float)\n",
    "ca_tract_pop['County ID'] = ca_tract_pop['County ID'].astype(int)\n",
    "ca_tract_pop['Tract ID'] = ca_tract_pop['Tract ID'].astype(int)"
   ]
  },
  {
   "cell_type": "markdown",
   "metadata": {},
   "source": [
    "## Merging Census Tract Data"
   ]
  },
  {
   "cell_type": "code",
   "execution_count": 46,
   "metadata": {},
   "outputs": [],
   "source": [
    "ca_tracts_merged = ca_tracts.merge(ca_tract_pop, on='Tract ID')"
   ]
  },
  {
   "cell_type": "code",
   "execution_count": 47,
   "metadata": {},
   "outputs": [
    {
     "data": {
      "text/plain": [
       "(16286, 12)"
      ]
     },
     "execution_count": 47,
     "metadata": {},
     "output_type": "execute_result"
    }
   ],
   "source": [
    "ca_tracts_merged.shape"
   ]
  },
  {
   "cell_type": "markdown",
   "metadata": {},
   "source": [
    "## Manipulating Merged Data"
   ]
  },
  {
   "cell_type": "code",
   "execution_count": 58,
   "metadata": {},
   "outputs": [
    {
     "data": {
      "text/plain": [
       "12002    8704\n",
       "10176    8671\n",
       "10178    8570\n",
       "10175    8240\n",
       "10079    8023\n",
       "12003    7951\n",
       "10174    7835\n",
       "16075    7022\n",
       "7651     6926\n",
       "14005    6801\n",
       "Name: Affected Pop, dtype: int64"
      ]
     },
     "execution_count": 58,
     "metadata": {},
     "output_type": "execute_result"
    }
   ],
   "source": [
    "#overlap_mps = [quarter_mile, half_mile, three_quarter_mile, one_mile]\n",
    "# overlap_mps_str = ['quarter_mile', 'half_mile', 'three_quarter_mile', 'one_mile']\n",
    "overlap = ca_tracts_merged['geometry'].intersection(one_mile)\n",
    "ca_tracts_merged['One Mile'] = overlap\n",
    "merged = ca_tracts_merged\n",
    "merged['Tract Area']      = merged.geometry.area\n",
    "merged['Buffer Area']     = [geo.area for geo in merged['One Mile']]\n",
    "merged['Percent Overlap'] = merged['Buffer Area'] / merged['Tract Area']\n",
    "merged['Affected Pop']    = [round(val) for val in merged['Percent Overlap'] * merged['Population 2016']]\n",
    "\n",
    "merged = merged.sort_values(by='Affected Pop', ascending=False)\n",
    "merged['Affected Pop'][:10]"
   ]
  },
  {
   "cell_type": "code",
   "execution_count": 59,
   "metadata": {},
   "outputs": [
    {
     "name": "stdout",
     "output_type": "stream",
     "text": [
      "598037\n"
     ]
    }
   ],
   "source": [
    "print(merged['Affected Pop'].sum())"
   ]
  }
 ],
 "metadata": {
  "kernelspec": {
   "display_name": "Python 3",
   "language": "python",
   "name": "python3"
  },
  "language_info": {
   "codemirror_mode": {
    "name": "ipython",
    "version": 3
   },
   "file_extension": ".py",
   "mimetype": "text/x-python",
   "name": "python",
   "nbconvert_exporter": "python",
   "pygments_lexer": "ipython3",
   "version": "3.9.0"
  }
 },
 "nbformat": 4,
 "nbformat_minor": 4
}
