{
 "cells": [
  {
   "cell_type": "markdown",
   "metadata": {},
   "source": [
    "# Intro to ML\n",
    "## A Quick Note on ML & Algorithmic Bias\n",
    "Machine learning, like most of the topics you're learning this quarter, is a very deep discipline that we're only going to touch the surface of. Unlike most other disciplines you're learning this quarter, you can do quite a bit of damage if you apply machine learning incorrectly. It is of the utmost importance to apply machine learning carefully and always with an eye towards fairness, accountability, and explainability. \n",
    "\n",
    "Algorithms themselves are not biased, but they can return results that are biased against certain groups of people if the data fed into them is biased. The data is almost guaranteed to be biased if you are using data from the real world, because the real world is biased against certain groups of people. For example, the National Institute of Standards and Technology recently found that facial recognition algorithms are 10 to 100 times more likely to inaccurately identify an East Asian or black face compared to a white face (<a href=\"https://www.scientificamerican.com/article/how-nist-tested-facial-recognition-algorithms-for-racial-bias\">Scientific American</a>). \n",
    "\n",
    "This is even more of a problem when algorithms determine important decisions, like whether an individual is <a href=\"https://www.law.upenn.edu/live/files/7952-kearns-finalpdf\">eligible for a loan</a>, or <a href=\"https://www.businessinsider.com/amazon-ai-biased-against-women-no-surprise-sandra-wachter-2018-10\">whether to invite an individual for a job interview</a>. There is a developing literature on this topic, known as FATML (Fairness, Accountability, and Transparency in Machine Learning). There are no one size fits all solutions, but there are some basic steps you can take, like evaluating the outcomes based on all types of groupings of individuals, using tools like <a href=\"https://github.com/dssg/aequitas\">aequitas</a> (developed by some Harris folks among others), and generally being sensitive and attentive to the potential biases your algorithm might propagate.\n",
    "\n",
    "## Predicting Pitchfork Ratings\n",
    "With that said, let's dive into a ML application that has none of those serious implications. In this lab, I'll be trying to predict the rating that the music critic blog Pitchfork gives to albums. I'll be using <a href=\"https://www.kaggle.com/nolanbconaway/pitchfork-data\">this dataset</a> to do it. The dataset is in the form of a sqlite3 database, so we'll get some exposure to using that sort of data as well in this lab."
   ]
  },
  {
   "cell_type": "code",
   "execution_count": 1,
   "metadata": {},
   "outputs": [],
   "source": [
    "import sqlite3\n",
    "import pandas as pd\n",
    "from sklearn.model_selection import train_test_split\n",
    "from sklearn.linear_model import LinearRegression\n",
    "from sklearn.metrics import mean_squared_error\n",
    "from sklearn.ensemble import RandomForestRegressor\n",
    "import seaborn as sns\n",
    "import matplotlib.pyplot as plt\n",
    "import spacy\n",
    "import functools"
   ]
  },
  {
   "cell_type": "code",
   "execution_count": 2,
   "metadata": {},
   "outputs": [],
   "source": [
    "nlp = spacy.load('en_core_web_lg')"
   ]
  },
  {
   "cell_type": "markdown",
   "metadata": {},
   "source": [
    "## Data Cleaning\n",
    "\n",
    "I know the table names from looking at the Kaggle page. Alternatively, I could find them by running \"sqlite3 pitchfork_db\" in my terminal and then typing \".tables\". Be careful when typing the name of your database, because if you incorrectly specify the name then Python will create a new one by that name, and you will be confused like I was when I typed \"data/pithfork_db.sqlite\"."
   ]
  },
  {
   "cell_type": "code",
   "execution_count": 3,
   "metadata": {},
   "outputs": [],
   "source": [
    "def read_in_data(cnx, tables):\n",
    "    table = 'artists'\n",
    "    return {table: pd.read_sql_query(f\"SELECT * FROM {table}\", cnx) for table in tables}\n",
    "\n",
    "cnx = sqlite3.connect('data/pitchfork_db.sqlite')\n",
    "tables = ['artists', 'content', 'genres', 'labels', 'reviews', 'years']\n",
    "dfs = read_in_data(cnx, tables)\n",
    "cnx.close()"
   ]
  },
  {
   "cell_type": "markdown",
   "metadata": {},
   "source": [
    "We now have the dataframes in a dictionary with the titles of the tables as the keys. We have the data, how do we A. get it into one dataframe and B. turn the information we have into variables we can use to predict?\n",
    "\n",
    "Fortunately, we have some data already in the reviews dataframe, and the rest we can join using the ids.\n",
    "\n",
    "Let's first look at the distribution of scores."
   ]
  },
  {
   "cell_type": "code",
   "execution_count": 4,
   "metadata": {},
   "outputs": [
    {
     "data": {
      "image/png": "[encoded data removed]",
      "text/plain": [
       "<Figure size 360x360 with 1 Axes>"
      ]
     },
     "metadata": {
      "needs_background": "light"
     },
     "output_type": "display_data"
    }
   ],
   "source": [
    "reviews = dfs['reviews']\n",
    "sns.displot(reviews['score'], kde=True);"
   ]
  },
  {
   "cell_type": "markdown",
   "metadata": {},
   "source": [
    "Our target is definitely not normally distributed. Notice the outliers at 6, 7, and 8. Out of curiosity, what albums have gotten a 0, and what albums have gotten a 10?"
   ]
  },
  {
   "cell_type": "code",
   "execution_count": 5,
   "metadata": {},
   "outputs": [
    {
     "name": "stdout",
     "output_type": "stream",
     "text": [
      "['metal box', 'blood on the tracks', 'another green world', 'songs in the key of life', 'in concert', \"tonight's the night\", 'hounds of love', 'sign \"o\" the times', '1999', 'purple rain', 'dirty mind', 'off the wall', '\"heroes\"', 'low', 'a love supreme: the complete masters', \"people's instinctive travels and the paths of rhythm\", 'astral weeks', 'loaded: re-loaded 45th anniversary edition', 'sticky fingers', 'it takes a nation of millions to hold us back', 'the velvet underground  45th anniversary super deluxe edition', 'spiderland', 'the infamous', 'white light/white heat', 'in utero: 20th anniversary edition', 'rumours', 'illmatic', 'donuts (45 box set)', 'voodoo', 'the disintegration loops', 'liquid swords: chess box deluxe edition', \"isn't anything\", 'tago mago [40th anniversary edition]', 'the smile sessions', 'laughing stock', 'nevermind [20th anniversary edition]', 'emergency & i [vinyl reissue]', 'my beautiful dark twisted fantasy', 'disintegration [deluxe edition]', 'exile on main st. [deluxe edition]', 'quarantine the past', \"ladies and gentlemen we are floating in space [collector's editon]\", 'the stone roses', 'the beatles', 'abbey road', 'rubber soul', 'revolver', \"sgt. pepper's lonely hearts club band\", 'magical mystery tour', 'stereo box', 'kid a: special collectors edition', 'reckoning [deluxe edition]', 'histoire de melody nelson', \"paul's boutique\", 'murmur [deluxe edition]', \"otis blue: otis redding sings soul [collector's edition]\", 'unknown pleasures', 'daydream nation: deluxe edition', 'pink flag', 'born to run: 30th anniversary edition', 'in the aeroplane over the sea', 'endtroducing... [deluxe edition]', \"crooked rain, crooked rain: la's desert origins\", 'london calling: 25th anniversary legacy edition', 'music has the right to children', 'live at the apollo [expanded edition]', 'no thanks!: the 70s punk rebellion', 'marquee moon', 'the ascension', \"this year's model\", 'yankee hotel foxtrot', 'source tags and codes', 'the olatunji concert: the last live recording', 'kid a', 'animals', 'i see a darkness']\n",
      "\n",
      "\n",
      "['this is next', 'shine on', 'travistan', 'liz phair', 'nyc ghosts & flowers']\n"
     ]
    }
   ],
   "source": [
    "albums_10 = reviews[reviews['score'] ==10]['title'].tolist()\n",
    "print(albums_10)\n",
    "print('\\n')\n",
    "albums_0 = reviews[reviews['score'] == 0]['title'].tolist()\n",
    "del albums_0[2]\n",
    "print(albums_0)"
   ]
  },
  {
   "cell_type": "markdown",
   "metadata": {},
   "source": [
    "The distribution actually makes a good deal of sense intuitively. Pitchfork is only reviewing albums they choose to review, which are more likely to be good than bad. What's more, severely negative reviews from Pitchfork can crater an indie artist's career, and giving an album a 0 is a serious statement. The albums with 0s tend to be from artists that released critically acclaimed work, then changed their style or \"sold out\" according to Pitchfork.\n",
    "\n",
    "Now let's get back to our analysis. We need to join some of the tables together in order to get more variables to work with. All of the tables are connected together with the variable \"reviewid\", which is handy, but not efficient database-wise."
   ]
  },
  {
   "cell_type": "code",
   "execution_count": 6,
   "metadata": {},
   "outputs": [
    {
     "data": {
      "text/html": [
       "<div>\n",
       "<style scoped>\n",
       "    .dataframe tbody tr th:only-of-type {\n",
       "        vertical-align: middle;\n",
       "    }\n",
       "\n",
       "    .dataframe tbody tr th {\n",
       "        vertical-align: top;\n",
       "    }\n",
       "\n",
       "    .dataframe thead th {\n",
       "        text-align: right;\n",
       "    }\n",
       "</style>\n",
       "<table border=\"1\" class=\"dataframe\">\n",
       "  <thead>\n",
       "    <tr style=\"text-align: right;\">\n",
       "      <th></th>\n",
       "      <th>reviewid</th>\n",
       "      <th>title</th>\n",
       "      <th>artist</th>\n",
       "      <th>url</th>\n",
       "      <th>score</th>\n",
       "      <th>best_new_music</th>\n",
       "      <th>author</th>\n",
       "      <th>author_type</th>\n",
       "      <th>pub_date</th>\n",
       "      <th>pub_weekday</th>\n",
       "      <th>pub_day</th>\n",
       "      <th>pub_month</th>\n",
       "      <th>pub_year</th>\n",
       "      <th>content</th>\n",
       "      <th>genre</th>\n",
       "    </tr>\n",
       "  </thead>\n",
       "  <tbody>\n",
       "    <tr>\n",
       "      <th>0</th>\n",
       "      <td>22703</td>\n",
       "      <td>mezzanine</td>\n",
       "      <td>massive attack</td>\n",
       "      <td>http://pitchfork.com/reviews/albums/22703-mezz...</td>\n",
       "      <td>9.3</td>\n",
       "      <td>0</td>\n",
       "      <td>nate patrin</td>\n",
       "      <td>contributor</td>\n",
       "      <td>2017-01-08</td>\n",
       "      <td>6</td>\n",
       "      <td>8</td>\n",
       "      <td>1</td>\n",
       "      <td>2017</td>\n",
       "      <td>“Trip-hop” eventually became a ’90s punchline,...</td>\n",
       "      <td>electronic</td>\n",
       "    </tr>\n",
       "    <tr>\n",
       "      <th>1</th>\n",
       "      <td>22721</td>\n",
       "      <td>prelapsarian</td>\n",
       "      <td>krallice</td>\n",
       "      <td>http://pitchfork.com/reviews/albums/22721-prel...</td>\n",
       "      <td>7.9</td>\n",
       "      <td>0</td>\n",
       "      <td>zoe camp</td>\n",
       "      <td>contributor</td>\n",
       "      <td>2017-01-07</td>\n",
       "      <td>5</td>\n",
       "      <td>7</td>\n",
       "      <td>1</td>\n",
       "      <td>2017</td>\n",
       "      <td>Eight years, five albums, and two EPs in, the ...</td>\n",
       "      <td>metal</td>\n",
       "    </tr>\n",
       "    <tr>\n",
       "      <th>2</th>\n",
       "      <td>22659</td>\n",
       "      <td>all of them naturals</td>\n",
       "      <td>uranium club</td>\n",
       "      <td>http://pitchfork.com/reviews/albums/22659-all-...</td>\n",
       "      <td>7.3</td>\n",
       "      <td>0</td>\n",
       "      <td>david glickman</td>\n",
       "      <td>contributor</td>\n",
       "      <td>2017-01-07</td>\n",
       "      <td>5</td>\n",
       "      <td>7</td>\n",
       "      <td>1</td>\n",
       "      <td>2017</td>\n",
       "      <td>Minneapolis’ Uranium Club seem to revel in bei...</td>\n",
       "      <td>rock</td>\n",
       "    </tr>\n",
       "    <tr>\n",
       "      <th>3</th>\n",
       "      <td>22661</td>\n",
       "      <td>first songs</td>\n",
       "      <td>kleenex, liliput</td>\n",
       "      <td>http://pitchfork.com/reviews/albums/22661-firs...</td>\n",
       "      <td>9.0</td>\n",
       "      <td>1</td>\n",
       "      <td>jenn pelly</td>\n",
       "      <td>associate reviews editor</td>\n",
       "      <td>2017-01-06</td>\n",
       "      <td>4</td>\n",
       "      <td>6</td>\n",
       "      <td>1</td>\n",
       "      <td>2017</td>\n",
       "      <td>Kleenex began with a crash. It transpired one ...</td>\n",
       "      <td>rock</td>\n",
       "    </tr>\n",
       "    <tr>\n",
       "      <th>4</th>\n",
       "      <td>22725</td>\n",
       "      <td>new start</td>\n",
       "      <td>taso</td>\n",
       "      <td>http://pitchfork.com/reviews/albums/22725-new-...</td>\n",
       "      <td>8.1</td>\n",
       "      <td>0</td>\n",
       "      <td>kevin lozano</td>\n",
       "      <td>tracks coordinator</td>\n",
       "      <td>2017-01-06</td>\n",
       "      <td>4</td>\n",
       "      <td>6</td>\n",
       "      <td>1</td>\n",
       "      <td>2017</td>\n",
       "      <td>It is impossible to consider a given release b...</td>\n",
       "      <td>electronic</td>\n",
       "    </tr>\n",
       "  </tbody>\n",
       "</table>\n",
       "</div>"
      ],
      "text/plain": [
       "   reviewid                 title            artist  \\\n",
       "0     22703             mezzanine    massive attack   \n",
       "1     22721          prelapsarian          krallice   \n",
       "2     22659  all of them naturals      uranium club   \n",
       "3     22661           first songs  kleenex, liliput   \n",
       "4     22725             new start              taso   \n",
       "\n",
       "                                                 url  score  best_new_music  \\\n",
       "0  http://pitchfork.com/reviews/albums/22703-mezz...    9.3               0   \n",
       "1  http://pitchfork.com/reviews/albums/22721-prel...    7.9               0   \n",
       "2  http://pitchfork.com/reviews/albums/22659-all-...    7.3               0   \n",
       "3  http://pitchfork.com/reviews/albums/22661-firs...    9.0               1   \n",
       "4  http://pitchfork.com/reviews/albums/22725-new-...    8.1               0   \n",
       "\n",
       "           author               author_type    pub_date  pub_weekday  pub_day  \\\n",
       "0     nate patrin               contributor  2017-01-08            6        8   \n",
       "1        zoe camp               contributor  2017-01-07            5        7   \n",
       "2  david glickman               contributor  2017-01-07            5        7   \n",
       "3      jenn pelly  associate reviews editor  2017-01-06            4        6   \n",
       "4    kevin lozano        tracks coordinator  2017-01-06            4        6   \n",
       "\n",
       "   pub_month  pub_year                                            content  \\\n",
       "0          1      2017  “Trip-hop” eventually became a ’90s punchline,...   \n",
       "1          1      2017  Eight years, five albums, and two EPs in, the ...   \n",
       "2          1      2017  Minneapolis’ Uranium Club seem to revel in bei...   \n",
       "3          1      2017  Kleenex began with a crash. It transpired one ...   \n",
       "4          1      2017  It is impossible to consider a given release b...   \n",
       "\n",
       "        genre  \n",
       "0  electronic  \n",
       "1       metal  \n",
       "2        rock  \n",
       "3        rock  \n",
       "4  electronic  "
      ]
     },
     "execution_count": 6,
     "metadata": {},
     "output_type": "execute_result"
    }
   ],
   "source": [
    "reviews = dfs['reviews']\n",
    "reviews = reviews.merge(dfs['content'], on='reviewid', how='left')\n",
    "reviews = reviews.merge(dfs['genres'],  on='reviewid', how='left')\n",
    "\n",
    "reviews.head()"
   ]
  },
  {
   "cell_type": "markdown",
   "metadata": {},
   "source": [
    "## Featurizing\n",
    "We now have the data we want all in the same table, but it's currently not in a format we can use to predict anything. For instance, we might like to know whether the genre of the album was released affects the rating given by Pitchfork. Did they give higher ratings to rock, electronic, or metal?"
   ]
  },
  {
   "cell_type": "code",
   "execution_count": 7,
   "metadata": {},
   "outputs": [
    {
     "data": {
      "image/png": "[encoded data removed]",
      "text/plain": [
       "<Figure size 720x720 with 1 Axes>"
      ]
     },
     "metadata": {
      "needs_background": "light"
     },
     "output_type": "display_data"
    }
   ],
   "source": [
    "def plot_dists(x, y, x_title, y_title):\n",
    "    ax = sns.catplot(x=x, y=y, kind='box', data=reviews, height=10);\n",
    "    ax.set(xlabel=x_title, ylabel=y_title);\n",
    "plot_dists('genre', 'score', 'Genre', 'Score')"
   ]
  },
  {
   "cell_type": "code",
   "execution_count": 8,
   "metadata": {},
   "outputs": [
    {
     "data": {
      "image/png": "[encoded data removed]",
      "text/plain": [
       "<Figure size 720x720 with 1 Axes>"
      ]
     },
     "metadata": {
      "needs_background": "light"
     },
     "output_type": "display_data"
    }
   ],
   "source": [
    "plot_dists('pub_year', 'score', 'Year Published', 'Score')"
   ]
  },
  {
   "cell_type": "markdown",
   "metadata": {},
   "source": [
    "The means aren't *that* different, but they are different. The distributions also vary in how dispersed they are, as we might expect, since Pitchfork reviews a lot less global music than they do rock."
   ]
  },
  {
   "cell_type": "code",
   "execution_count": 9,
   "metadata": {},
   "outputs": [
    {
     "data": {
      "text/html": [
       "<div>\n",
       "<style scoped>\n",
       "    .dataframe tbody tr th:only-of-type {\n",
       "        vertical-align: middle;\n",
       "    }\n",
       "\n",
       "    .dataframe tbody tr th {\n",
       "        vertical-align: top;\n",
       "    }\n",
       "\n",
       "    .dataframe thead th {\n",
       "        text-align: right;\n",
       "    }\n",
       "</style>\n",
       "<table border=\"1\" class=\"dataframe\">\n",
       "  <thead>\n",
       "    <tr style=\"text-align: right;\">\n",
       "      <th></th>\n",
       "      <th>reviewid</th>\n",
       "      <th>title</th>\n",
       "      <th>artist</th>\n",
       "      <th>url</th>\n",
       "      <th>score</th>\n",
       "      <th>best_new_music</th>\n",
       "      <th>author</th>\n",
       "      <th>author_type</th>\n",
       "      <th>pub_date</th>\n",
       "      <th>pub_weekday</th>\n",
       "      <th>...</th>\n",
       "      <th>content</th>\n",
       "      <th>genre_electronic</th>\n",
       "      <th>genre_experimental</th>\n",
       "      <th>genre_folk/country</th>\n",
       "      <th>genre_global</th>\n",
       "      <th>genre_jazz</th>\n",
       "      <th>genre_metal</th>\n",
       "      <th>genre_pop/r&amp;b</th>\n",
       "      <th>genre_rap</th>\n",
       "      <th>genre_rock</th>\n",
       "    </tr>\n",
       "  </thead>\n",
       "  <tbody>\n",
       "    <tr>\n",
       "      <th>0</th>\n",
       "      <td>22703</td>\n",
       "      <td>mezzanine</td>\n",
       "      <td>massive attack</td>\n",
       "      <td>http://pitchfork.com/reviews/albums/22703-mezz...</td>\n",
       "      <td>9.3</td>\n",
       "      <td>0</td>\n",
       "      <td>nate patrin</td>\n",
       "      <td>contributor</td>\n",
       "      <td>2017-01-08</td>\n",
       "      <td>6</td>\n",
       "      <td>...</td>\n",
       "      <td>“Trip-hop” eventually became a ’90s punchline,...</td>\n",
       "      <td>1</td>\n",
       "      <td>0</td>\n",
       "      <td>0</td>\n",
       "      <td>0</td>\n",
       "      <td>0</td>\n",
       "      <td>0</td>\n",
       "      <td>0</td>\n",
       "      <td>0</td>\n",
       "      <td>0</td>\n",
       "    </tr>\n",
       "    <tr>\n",
       "      <th>1</th>\n",
       "      <td>22721</td>\n",
       "      <td>prelapsarian</td>\n",
       "      <td>krallice</td>\n",
       "      <td>http://pitchfork.com/reviews/albums/22721-prel...</td>\n",
       "      <td>7.9</td>\n",
       "      <td>0</td>\n",
       "      <td>zoe camp</td>\n",
       "      <td>contributor</td>\n",
       "      <td>2017-01-07</td>\n",
       "      <td>5</td>\n",
       "      <td>...</td>\n",
       "      <td>Eight years, five albums, and two EPs in, the ...</td>\n",
       "      <td>0</td>\n",
       "      <td>0</td>\n",
       "      <td>0</td>\n",
       "      <td>0</td>\n",
       "      <td>0</td>\n",
       "      <td>1</td>\n",
       "      <td>0</td>\n",
       "      <td>0</td>\n",
       "      <td>0</td>\n",
       "    </tr>\n",
       "    <tr>\n",
       "      <th>2</th>\n",
       "      <td>22659</td>\n",
       "      <td>all of them naturals</td>\n",
       "      <td>uranium club</td>\n",
       "      <td>http://pitchfork.com/reviews/albums/22659-all-...</td>\n",
       "      <td>7.3</td>\n",
       "      <td>0</td>\n",
       "      <td>david glickman</td>\n",
       "      <td>contributor</td>\n",
       "      <td>2017-01-07</td>\n",
       "      <td>5</td>\n",
       "      <td>...</td>\n",
       "      <td>Minneapolis’ Uranium Club seem to revel in bei...</td>\n",
       "      <td>0</td>\n",
       "      <td>0</td>\n",
       "      <td>0</td>\n",
       "      <td>0</td>\n",
       "      <td>0</td>\n",
       "      <td>0</td>\n",
       "      <td>0</td>\n",
       "      <td>0</td>\n",
       "      <td>1</td>\n",
       "    </tr>\n",
       "    <tr>\n",
       "      <th>3</th>\n",
       "      <td>22661</td>\n",
       "      <td>first songs</td>\n",
       "      <td>kleenex, liliput</td>\n",
       "      <td>http://pitchfork.com/reviews/albums/22661-firs...</td>\n",
       "      <td>9.0</td>\n",
       "      <td>1</td>\n",
       "      <td>jenn pelly</td>\n",
       "      <td>associate reviews editor</td>\n",
       "      <td>2017-01-06</td>\n",
       "      <td>4</td>\n",
       "      <td>...</td>\n",
       "      <td>Kleenex began with a crash. It transpired one ...</td>\n",
       "      <td>0</td>\n",
       "      <td>0</td>\n",
       "      <td>0</td>\n",
       "      <td>0</td>\n",
       "      <td>0</td>\n",
       "      <td>0</td>\n",
       "      <td>0</td>\n",
       "      <td>0</td>\n",
       "      <td>1</td>\n",
       "    </tr>\n",
       "    <tr>\n",
       "      <th>4</th>\n",
       "      <td>22725</td>\n",
       "      <td>new start</td>\n",
       "      <td>taso</td>\n",
       "      <td>http://pitchfork.com/reviews/albums/22725-new-...</td>\n",
       "      <td>8.1</td>\n",
       "      <td>0</td>\n",
       "      <td>kevin lozano</td>\n",
       "      <td>tracks coordinator</td>\n",
       "      <td>2017-01-06</td>\n",
       "      <td>4</td>\n",
       "      <td>...</td>\n",
       "      <td>It is impossible to consider a given release b...</td>\n",
       "      <td>1</td>\n",
       "      <td>0</td>\n",
       "      <td>0</td>\n",
       "      <td>0</td>\n",
       "      <td>0</td>\n",
       "      <td>0</td>\n",
       "      <td>0</td>\n",
       "      <td>0</td>\n",
       "      <td>0</td>\n",
       "    </tr>\n",
       "  </tbody>\n",
       "</table>\n",
       "<p>5 rows × 23 columns</p>\n",
       "</div>"
      ],
      "text/plain": [
       "   reviewid                 title            artist  \\\n",
       "0     22703             mezzanine    massive attack   \n",
       "1     22721          prelapsarian          krallice   \n",
       "2     22659  all of them naturals      uranium club   \n",
       "3     22661           first songs  kleenex, liliput   \n",
       "4     22725             new start              taso   \n",
       "\n",
       "                                                 url  score  best_new_music  \\\n",
       "0  http://pitchfork.com/reviews/albums/22703-mezz...    9.3               0   \n",
       "1  http://pitchfork.com/reviews/albums/22721-prel...    7.9               0   \n",
       "2  http://pitchfork.com/reviews/albums/22659-all-...    7.3               0   \n",
       "3  http://pitchfork.com/reviews/albums/22661-firs...    9.0               1   \n",
       "4  http://pitchfork.com/reviews/albums/22725-new-...    8.1               0   \n",
       "\n",
       "           author               author_type    pub_date  pub_weekday  ...  \\\n",
       "0     nate patrin               contributor  2017-01-08            6  ...   \n",
       "1        zoe camp               contributor  2017-01-07            5  ...   \n",
       "2  david glickman               contributor  2017-01-07            5  ...   \n",
       "3      jenn pelly  associate reviews editor  2017-01-06            4  ...   \n",
       "4    kevin lozano        tracks coordinator  2017-01-06            4  ...   \n",
       "\n",
       "                                             content  genre_electronic  \\\n",
       "0  “Trip-hop” eventually became a ’90s punchline,...                 1   \n",
       "1  Eight years, five albums, and two EPs in, the ...                 0   \n",
       "2  Minneapolis’ Uranium Club seem to revel in bei...                 0   \n",
       "3  Kleenex began with a crash. It transpired one ...                 0   \n",
       "4  It is impossible to consider a given release b...                 1   \n",
       "\n",
       "   genre_experimental genre_folk/country  genre_global  genre_jazz  \\\n",
       "0                   0                  0             0           0   \n",
       "1                   0                  0             0           0   \n",
       "2                   0                  0             0           0   \n",
       "3                   0                  0             0           0   \n",
       "4                   0                  0             0           0   \n",
       "\n",
       "   genre_metal  genre_pop/r&b  genre_rap  genre_rock  \n",
       "0            0              0          0           0  \n",
       "1            1              0          0           0  \n",
       "2            0              0          0           1  \n",
       "3            0              0          0           1  \n",
       "4            0              0          0           0  \n",
       "\n",
       "[5 rows x 23 columns]"
      ]
     },
     "execution_count": 9,
     "metadata": {},
     "output_type": "execute_result"
    }
   ],
   "source": [
    "reviews = pd.get_dummies(reviews, prefix='genre', columns=['genre'])\n",
    "reviews.head()"
   ]
  },
  {
   "cell_type": "markdown",
   "metadata": {},
   "source": [
    "We now have all our genres in separate variables, coded by a 1 if the review is from that genre and 0 otherwise. We can do the same thing with a few other variables.  Note that I could create a function to do this, it would look like:"
   ]
  },
  {
   "cell_type": "code",
   "execution_count": 10,
   "metadata": {},
   "outputs": [],
   "source": [
    "def create_dummies(reviews, prefix, column):\n",
    "    reviews = pd.get_dummies(reviews, prefix=prefix, columns=[column])\n",
    "    return reviews\n",
    "\n",
    "prefixes = ['author_type', 'author']\n",
    "columns  = prefixes\n",
    "for prefix, column in zip(prefixes, columns):\n",
    "    reviews = create_dummies(reviews, prefix, column)"
   ]
  },
  {
   "cell_type": "code",
   "execution_count": 11,
   "metadata": {},
   "outputs": [
    {
     "data": {
      "text/html": [
       "<div>\n",
       "<style scoped>\n",
       "    .dataframe tbody tr th:only-of-type {\n",
       "        vertical-align: middle;\n",
       "    }\n",
       "\n",
       "    .dataframe tbody tr th {\n",
       "        vertical-align: top;\n",
       "    }\n",
       "\n",
       "    .dataframe thead th {\n",
       "        text-align: right;\n",
       "    }\n",
       "</style>\n",
       "<table border=\"1\" class=\"dataframe\">\n",
       "  <thead>\n",
       "    <tr style=\"text-align: right;\">\n",
       "      <th></th>\n",
       "      <th>reviewid</th>\n",
       "      <th>title</th>\n",
       "      <th>artist</th>\n",
       "      <th>url</th>\n",
       "      <th>score</th>\n",
       "      <th>best_new_music</th>\n",
       "      <th>pub_date</th>\n",
       "      <th>pub_weekday</th>\n",
       "      <th>pub_day</th>\n",
       "      <th>pub_month</th>\n",
       "      <th>...</th>\n",
       "      <th>author_william bowers</th>\n",
       "      <th>author_william morris</th>\n",
       "      <th>author_winston cook-wilson</th>\n",
       "      <th>author_yancey strickler</th>\n",
       "      <th>author_zach baron</th>\n",
       "      <th>author_zach hammerman</th>\n",
       "      <th>author_zach hooker</th>\n",
       "      <th>author_zach kelly</th>\n",
       "      <th>author_zach vowell</th>\n",
       "      <th>author_zoe camp</th>\n",
       "    </tr>\n",
       "  </thead>\n",
       "  <tbody>\n",
       "    <tr>\n",
       "      <th>0</th>\n",
       "      <td>22703</td>\n",
       "      <td>mezzanine</td>\n",
       "      <td>massive attack</td>\n",
       "      <td>http://pitchfork.com/reviews/albums/22703-mezz...</td>\n",
       "      <td>9.3</td>\n",
       "      <td>0</td>\n",
       "      <td>2017-01-08</td>\n",
       "      <td>6</td>\n",
       "      <td>8</td>\n",
       "      <td>1</td>\n",
       "      <td>...</td>\n",
       "      <td>0</td>\n",
       "      <td>0</td>\n",
       "      <td>0</td>\n",
       "      <td>0</td>\n",
       "      <td>0</td>\n",
       "      <td>0</td>\n",
       "      <td>0</td>\n",
       "      <td>0</td>\n",
       "      <td>0</td>\n",
       "      <td>0</td>\n",
       "    </tr>\n",
       "    <tr>\n",
       "      <th>1</th>\n",
       "      <td>22721</td>\n",
       "      <td>prelapsarian</td>\n",
       "      <td>krallice</td>\n",
       "      <td>http://pitchfork.com/reviews/albums/22721-prel...</td>\n",
       "      <td>7.9</td>\n",
       "      <td>0</td>\n",
       "      <td>2017-01-07</td>\n",
       "      <td>5</td>\n",
       "      <td>7</td>\n",
       "      <td>1</td>\n",
       "      <td>...</td>\n",
       "      <td>0</td>\n",
       "      <td>0</td>\n",
       "      <td>0</td>\n",
       "      <td>0</td>\n",
       "      <td>0</td>\n",
       "      <td>0</td>\n",
       "      <td>0</td>\n",
       "      <td>0</td>\n",
       "      <td>0</td>\n",
       "      <td>1</td>\n",
       "    </tr>\n",
       "    <tr>\n",
       "      <th>2</th>\n",
       "      <td>22659</td>\n",
       "      <td>all of them naturals</td>\n",
       "      <td>uranium club</td>\n",
       "      <td>http://pitchfork.com/reviews/albums/22659-all-...</td>\n",
       "      <td>7.3</td>\n",
       "      <td>0</td>\n",
       "      <td>2017-01-07</td>\n",
       "      <td>5</td>\n",
       "      <td>7</td>\n",
       "      <td>1</td>\n",
       "      <td>...</td>\n",
       "      <td>0</td>\n",
       "      <td>0</td>\n",
       "      <td>0</td>\n",
       "      <td>0</td>\n",
       "      <td>0</td>\n",
       "      <td>0</td>\n",
       "      <td>0</td>\n",
       "      <td>0</td>\n",
       "      <td>0</td>\n",
       "      <td>0</td>\n",
       "    </tr>\n",
       "    <tr>\n",
       "      <th>3</th>\n",
       "      <td>22661</td>\n",
       "      <td>first songs</td>\n",
       "      <td>kleenex, liliput</td>\n",
       "      <td>http://pitchfork.com/reviews/albums/22661-firs...</td>\n",
       "      <td>9.0</td>\n",
       "      <td>1</td>\n",
       "      <td>2017-01-06</td>\n",
       "      <td>4</td>\n",
       "      <td>6</td>\n",
       "      <td>1</td>\n",
       "      <td>...</td>\n",
       "      <td>0</td>\n",
       "      <td>0</td>\n",
       "      <td>0</td>\n",
       "      <td>0</td>\n",
       "      <td>0</td>\n",
       "      <td>0</td>\n",
       "      <td>0</td>\n",
       "      <td>0</td>\n",
       "      <td>0</td>\n",
       "      <td>0</td>\n",
       "    </tr>\n",
       "    <tr>\n",
       "      <th>4</th>\n",
       "      <td>22725</td>\n",
       "      <td>new start</td>\n",
       "      <td>taso</td>\n",
       "      <td>http://pitchfork.com/reviews/albums/22725-new-...</td>\n",
       "      <td>8.1</td>\n",
       "      <td>0</td>\n",
       "      <td>2017-01-06</td>\n",
       "      <td>4</td>\n",
       "      <td>6</td>\n",
       "      <td>1</td>\n",
       "      <td>...</td>\n",
       "      <td>0</td>\n",
       "      <td>0</td>\n",
       "      <td>0</td>\n",
       "      <td>0</td>\n",
       "      <td>0</td>\n",
       "      <td>0</td>\n",
       "      <td>0</td>\n",
       "      <td>0</td>\n",
       "      <td>0</td>\n",
       "      <td>0</td>\n",
       "    </tr>\n",
       "  </tbody>\n",
       "</table>\n",
       "<p>5 rows × 468 columns</p>\n",
       "</div>"
      ],
      "text/plain": [
       "   reviewid                 title            artist  \\\n",
       "0     22703             mezzanine    massive attack   \n",
       "1     22721          prelapsarian          krallice   \n",
       "2     22659  all of them naturals      uranium club   \n",
       "3     22661           first songs  kleenex, liliput   \n",
       "4     22725             new start              taso   \n",
       "\n",
       "                                                 url  score  best_new_music  \\\n",
       "0  http://pitchfork.com/reviews/albums/22703-mezz...    9.3               0   \n",
       "1  http://pitchfork.com/reviews/albums/22721-prel...    7.9               0   \n",
       "2  http://pitchfork.com/reviews/albums/22659-all-...    7.3               0   \n",
       "3  http://pitchfork.com/reviews/albums/22661-firs...    9.0               1   \n",
       "4  http://pitchfork.com/reviews/albums/22725-new-...    8.1               0   \n",
       "\n",
       "     pub_date  pub_weekday  pub_day  pub_month  ...  author_william bowers  \\\n",
       "0  2017-01-08            6        8          1  ...                      0   \n",
       "1  2017-01-07            5        7          1  ...                      0   \n",
       "2  2017-01-07            5        7          1  ...                      0   \n",
       "3  2017-01-06            4        6          1  ...                      0   \n",
       "4  2017-01-06            4        6          1  ...                      0   \n",
       "\n",
       "  author_william morris  author_winston cook-wilson  author_yancey strickler  \\\n",
       "0                     0                           0                        0   \n",
       "1                     0                           0                        0   \n",
       "2                     0                           0                        0   \n",
       "3                     0                           0                        0   \n",
       "4                     0                           0                        0   \n",
       "\n",
       "   author_zach baron  author_zach hammerman  author_zach hooker  \\\n",
       "0                  0                      0                   0   \n",
       "1                  0                      0                   0   \n",
       "2                  0                      0                   0   \n",
       "3                  0                      0                   0   \n",
       "4                  0                      0                   0   \n",
       "\n",
       "   author_zach kelly  author_zach vowell  author_zoe camp  \n",
       "0                  0                   0                0  \n",
       "1                  0                   0                1  \n",
       "2                  0                   0                0  \n",
       "3                  0                   0                0  \n",
       "4                  0                   0                0  \n",
       "\n",
       "[5 rows x 468 columns]"
      ]
     },
     "execution_count": 11,
     "metadata": {},
     "output_type": "execute_result"
    }
   ],
   "source": [
    "reviews.head()"
   ]
  },
  {
   "cell_type": "markdown",
   "metadata": {},
   "source": []
  },
  {
   "cell_type": "markdown",
   "metadata": {},
   "source": [
    "### Featurizing Text\n",
    "\n",
    "We now have some good features to use. Let's now try to make the text of the review into some features we can use to predict the score.\n",
    "\n",
    "The first, and simplest, tool we can use is the length of the review in characters, words, and sentences. "
   ]
  },
  {
   "cell_type": "code",
   "execution_count": 12,
   "metadata": {},
   "outputs": [],
   "source": [
    "reviews['review_len_in_chars'] = [len(review) for review in reviews['content']]\n",
    "reviews['review_len_in_words'] = [len(review.split()) for review in reviews['content']]\n",
    "# reviews['review_len_in_words'] = [len(list(nlp(review).sents)) for review in reviews['content']]\n",
    "# ^ takes too long"
   ]
  },
  {
   "cell_type": "code",
   "execution_count": 13,
   "metadata": {},
   "outputs": [
    {
     "data": {
      "text/plain": [
       "True"
      ]
     },
     "execution_count": 13,
     "metadata": {},
     "output_type": "execute_result"
    }
   ],
   "source": [
    "good_token = nlp('good')\n",
    "good_token.has_vector"
   ]
  },
  {
   "cell_type": "markdown",
   "metadata": {},
   "source": [
    "I'm going to calculate the average \"good\"-ness of each review by taking the sum of the similarities of each word vector and the word vector for \"good\", then dividing by the number of words in the review. This is a bit silly, but it should be an ok heuristic."
   ]
  },
  {
   "cell_type": "code",
   "execution_count": 14,
   "metadata": {},
   "outputs": [
    {
     "name": "stderr",
     "output_type": "stream",
     "text": [
      "<ipython-input-14-4f0f5f763048>:9: UserWarning: [W008] Evaluating Token.similarity based on empty vectors.\n",
      "  total_goodness = functools.reduce(lambda curr_sum, curr_token: curr_sum + curr_token.similarity(good_token), content, 0)\n"
     ]
    }
   ],
   "source": [
    "def calculate_goodness(good_token, review_contents):\n",
    "    goodness_list = []\n",
    "    for content in review_contents:\n",
    "        content = nlp(content)\n",
    "        num_words = len(content)\n",
    "        if num_words == 0:\n",
    "            goodness_list.append(0)\n",
    "            continue\n",
    "        total_goodness = functools.reduce(lambda curr_sum, curr_token: curr_sum + curr_token.similarity(good_token), content, 0)\n",
    "        goodness_list.append(total_goodness/num_words)\n",
    "    return goodness_list\n",
    "\n",
    "reviews['goodness'] = calculate_goodness(good_token ,reviews['content'])"
   ]
  },
  {
   "cell_type": "code",
   "execution_count": 15,
   "metadata": {},
   "outputs": [],
   "source": [
    "reviews = reviews[reviews['goodness'] != 0]"
   ]
  },
  {
   "cell_type": "markdown",
   "metadata": {},
   "source": [
    "I don't want some of the data that's in reviews-- for instance, I don't want the reviewid. "
   ]
  },
  {
   "cell_type": "code",
   "execution_count": 16,
   "metadata": {},
   "outputs": [],
   "source": [
    "reviews = reviews.drop(['reviewid'], 1)"
   ]
  },
  {
   "cell_type": "markdown",
   "metadata": {},
   "source": [
    "Finally, I'm going to get rid of the non-numeric columns because we can't use them to predict. "
   ]
  },
  {
   "cell_type": "code",
   "execution_count": 17,
   "metadata": {},
   "outputs": [],
   "source": [
    "reviews = reviews.select_dtypes(include='number')"
   ]
  },
  {
   "cell_type": "markdown",
   "metadata": {},
   "source": [
    "## Prediction\n",
    "\n",
    "This lab is emblematic of most machine learning projects. The vast majority of the time is spent on data cleaning and preparing data for the prediction algorithm, and very little is spent on the prediction itself. We'll use two algorithms here.\n",
    "\n",
    "### Training and Testing"
   ]
  },
  {
   "cell_type": "code",
   "execution_count": 18,
   "metadata": {},
   "outputs": [],
   "source": [
    "review_scores = reviews['score']"
   ]
  },
  {
   "cell_type": "code",
   "execution_count": 19,
   "metadata": {},
   "outputs": [],
   "source": [
    "reviews = reviews.drop('score', 1)"
   ]
  },
  {
   "cell_type": "code",
   "execution_count": 20,
   "metadata": {},
   "outputs": [],
   "source": [
    "X_train, X_test, y_train, y_test = train_test_split(reviews, review_scores, test_size=0.1)"
   ]
  },
  {
   "cell_type": "markdown",
   "metadata": {},
   "source": [
    "### Linear Regression (OLS)"
   ]
  },
  {
   "cell_type": "code",
   "execution_count": 21,
   "metadata": {},
   "outputs": [
    {
     "data": {
      "text/plain": [
       "0.23903478726360416"
      ]
     },
     "execution_count": 21,
     "metadata": {},
     "output_type": "execute_result"
    }
   ],
   "source": [
    "reg = LinearRegression().fit(X_train, y_train)\n",
    "#R^2\n",
    "reg.score(X_train, y_train)"
   ]
  },
  {
   "cell_type": "code",
   "execution_count": 22,
   "metadata": {},
   "outputs": [
    {
     "data": {
      "text/plain": [
       "46307446731.39946"
      ]
     },
     "execution_count": 22,
     "metadata": {},
     "output_type": "execute_result"
    }
   ],
   "source": [
    "y_test_pred_ols = reg.predict(X_test)\n",
    "mean_squared_error(y_test, y_test_pred_ols)"
   ]
  },
  {
   "cell_type": "code",
   "execution_count": 23,
   "metadata": {},
   "outputs": [
    {
     "data": {
      "image/png": "[encoded data removed]",
      "text/plain": [
       "<Figure size 432x288 with 1 Axes>"
      ]
     },
     "metadata": {
      "needs_background": "light"
     },
     "output_type": "display_data"
    }
   ],
   "source": [
    "fig, ax = plt.subplots()\n",
    "sns.scatterplot(x=y_test_pred_ols, y=y_test)\n",
    "ax.set_xlim(0,10)\n",
    "ax.set(xlabel='Predicted Rating', ylabel='Actual Rating');\n",
    "plt.show()"
   ]
  },
  {
   "cell_type": "markdown",
   "metadata": {},
   "source": [
    "Our predictive accuracy isn't very high here, but that's to be expected. OLS is very easy to interpret but doesn't have the best predictive power. \n",
    "\n",
    "Interpreting the plot, if we were perfectly accurate then our points would lie along the 45 degree angle of actual rating = predicted rating. Clearly our predictions are skewing higher than they should. This could be because we have fewer examples of low scores-- we have a biased sample because there aren't many low scoring reviews in the data."
   ]
  },
  {
   "cell_type": "markdown",
   "metadata": {},
   "source": [
    "### Random Forests"
   ]
  },
  {
   "cell_type": "code",
   "execution_count": 24,
   "metadata": {},
   "outputs": [],
   "source": [
    "rf = RandomForestRegressor(n_estimators=500).fit(X_train, y_train)"
   ]
  },
  {
   "cell_type": "code",
   "execution_count": 25,
   "metadata": {},
   "outputs": [
    {
     "data": {
      "text/plain": [
       "0.9143095127047651"
      ]
     },
     "execution_count": 25,
     "metadata": {},
     "output_type": "execute_result"
    }
   ],
   "source": [
    "rf.score(X_train, y_train)\n",
    "#R^2"
   ]
  },
  {
   "cell_type": "code",
   "execution_count": 26,
   "metadata": {},
   "outputs": [
    {
     "data": {
      "text/plain": [
       "0.9456452152422902"
      ]
     },
     "execution_count": 26,
     "metadata": {},
     "output_type": "execute_result"
    }
   ],
   "source": [
    "y_test_pred_rf = rf.predict(X_test)\n",
    "mean_squared_error(y_test, y_test_pred_rf)"
   ]
  },
  {
   "cell_type": "code",
   "execution_count": 27,
   "metadata": {},
   "outputs": [
    {
     "data": {
      "image/png": "[encoded data removed]",
      "text/plain": [
       "<Figure size 432x288 with 1 Axes>"
      ]
     },
     "metadata": {
      "needs_background": "light"
     },
     "output_type": "display_data"
    }
   ],
   "source": [
    "fig, ax = plt.subplots()\n",
    "sns.scatterplot(x=y_test_pred_rf, y=y_test)\n",
    "ax.set_xlim(0,10)\n",
    "ax.set(xlabel='Predicted Rating', ylabel='Actual Rating');\n",
    "plt.show()"
   ]
  },
  {
   "cell_type": "markdown",
   "metadata": {},
   "source": [
    "## Results\n",
    "Our Random Forests model is a bit better than our OLS model as expected, but not *that* much better. Our distribution is closer to the X=Y diagonal but there's definitely still some improvements we could make. The implicit tradeoff we're making here is that as you know, I can look at the coefficients of each of the variables and evaluate the effect they have on the overall prediction. I can't really do that with Random Forests. There are ways to look at the importance of certain variables though. The larger point is that there is a tradeoff in machine learning between predictive power and interpretability. It might not be there forever, as neural networks and ensemble methods become more interpretable by the day, but as of today it stands. "
   ]
  },
  {
   "cell_type": "code",
   "execution_count": 28,
   "metadata": {},
   "outputs": [
    {
     "name": "stdout",
     "output_type": "stream",
     "text": [
      "463               goodness\n",
      "461    review_len_in_chars\n",
      "462    review_len_in_words\n",
      "0           best_new_music\n",
      "2                  pub_day\n",
      "4                 pub_year\n",
      "3                pub_month\n",
      "1              pub_weekday\n",
      "185       author_ian cohen\n",
      "13              genre_rock\n",
      "Name: Vars, dtype: object\n"
     ]
    },
    {
     "data": {
      "image/png": "[encoded data removed]",
      "text/plain": [
       "<Figure size 432x288 with 1 Axes>"
      ]
     },
     "metadata": {
      "needs_background": "light"
     },
     "output_type": "display_data"
    }
   ],
   "source": [
    "importance = rf.feature_importances_\n",
    "var_imp_df = pd.DataFrame(data={'Vars': reviews.columns.tolist(), 'Importance': importance})\n",
    "var_imp_df = var_imp_df.sort_values(by='Importance', ascending=False)\n",
    "print(var_imp_df['Vars'][:10])\n",
    "plt.bar([x for x in range(len(importance))], importance)\n",
    "plt.show()"
   ]
  },
  {
   "cell_type": "code",
   "execution_count": null,
   "metadata": {},
   "outputs": [],
   "source": []
  }
 ],
 "metadata": {
  "kernelspec": {
   "display_name": "Python 3",
   "language": "python",
   "name": "python3"
  },
  "language_info": {
   "codemirror_mode": {
    "name": "ipython",
    "version": 3
   },
   "file_extension": ".py",
   "mimetype": "text/x-python",
   "name": "python",
   "nbconvert_exporter": "python",
   "pygments_lexer": "ipython3",
   "version": "3.9.0"
  }
 },
 "nbformat": 4,
 "nbformat_minor": 4
}
